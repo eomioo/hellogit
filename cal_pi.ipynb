{
 "cells": [
  {
   "cell_type": "code",
   "execution_count": 16,
   "metadata": {},
   "outputs": [
    {
     "name": "stdout",
     "output_type": "stream",
     "text": [
      "3.141592653589789\n"
     ]
    }
   ],
   "source": [
    "calcPi = 3\n",
    "counts = 100000\n",
    "a = True\n",
    "\n",
    "for i in range(2, counts, 2):\n",
    "    tem = 4/(i*(i+1)*(i+2))\n",
    "    if a:\n",
    "        calcPi = calcPi + tem\n",
    "    else:\n",
    "        calcPi = calcPi - tem\n",
    "    a = not a\n",
    "\n",
    "print('{0:.15f}'.format(calcPi))"
   ]
  }
 ],
 "metadata": {
  "kernelspec": {
   "display_name": "Python 3",
   "language": "python",
   "name": "python3"
  },
  "language_info": {
   "codemirror_mode": {
    "name": "ipython",
    "version": 3
   },
   "file_extension": ".py",
   "mimetype": "text/x-python",
   "name": "python",
   "nbconvert_exporter": "python",
   "pygments_lexer": "ipython3",
   "version": "3.7.0"
  }
 },
 "nbformat": 4,
 "nbformat_minor": 2
}
